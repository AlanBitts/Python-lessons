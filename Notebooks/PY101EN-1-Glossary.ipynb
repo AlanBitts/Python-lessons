{
 "cells": [
  {
   "cell_type": "markdown",
   "id": "8bfb957d-a275-494c-8453-7b1a436c4c9e",
   "metadata": {},
   "source": [
    "# Glossary: Python Basics"
   ]
  },
  {
   "cell_type": "markdown",
   "id": "9e7d6c2c-fe0c-41b3-898e-006395327131",
   "metadata": {},
   "source": [
    "Welcome! This alphabetized glossary contains many of the terms you'll find within this course. This comprehensive glossary also includes additional industry-recognized terms not used in course videos. These terms are important for you to recognize when working in the industry, participating in user groups, and participating in other certificate programs."
   ]
  },
  {
   "cell_type": "markdown",
   "id": "2022f480-8f40-4aac-85df-6135277e3ed4",
   "metadata": {},
   "source": [
    "| **Term** | **Definition** |\n",
    "|------|------------|\n",
    "|   AI |AI (artificial intelligence) is the ability of a digital computer or computer-controlled robot to perform tasks commonly associated with intelligent beings.|\n",
    "| Application development | Application development, or app development, is the process of planning, designing, creating, testing, and deploying a software application to perform various business operations.|\n",
    "|Arithmetic Operations|Arithmetic operations are the basic calculations we make in everyday life like addition, subtraction, multiplication and division. It is also called as algebraic operations or mathematical operations.|\n",
    "|Array of numbers|\tSet of numbers or objects that follow a pattern presented as an arrangement of rows and columns to explain multiplication.|\n",
    "|Assignment operator in Python\t|Assignment operator is a type of Binary operator that helps in modifying the variable to its left with the use of its value to the right. The symbol used for assignment operator is \"=\".|\n",
    "|Asterisk\t|Symbol \"* \" used to perform various operations in Python.|\n",
    "|Backslash|\tA backslash is an escape character used in Python strings to indicate that the character immediately following it should be treated in a special way, such as being treated as escaped character or raw string.|\n",
    "|Boolean\t|Denoting a system of algebraic notation used to represent logical propositions by means of the binary digits 0 (false) and 1 (true).|\n",
    "|Colon\t|A colon is used to represent an indented block. It is also used to fetch data and index ranges or arrays.\n",
    "|Concatenate|\tLink (things) together in a chain or series.|\n",
    "|Data engineering|\tData engineers are responsible for turning raw data into information that an organization can understand and use. Their work involves blending, testing, and optimizing data from numerous sources.|\n",
    "|Data science|\tData Science is an interdisciplinary field that focuses on extracting knowledge from data sets which are typically huge in amount. The field encompasses analysis, preparing data for analysis, and presenting findings to inform high-level decisions in an organization.|\n",
    "|Data type\t|Data type refers to the type of value a variable has and what type of mathematical, relational or logical operations can be applied without causing an error.|\n",
    "|Double quote\t|Symbol “ “ used to represent strings in Python.|\n",
    "|Escape sequence\t|An escape sequence is two or more characters that often begin with an escape character that tell the computer to perform a function or command.|\n",
    "|Expression\t|An expression is a combination of operators and operands that is interpreted to produce some other value.|\n",
    "|Float\t|Python float () function is used to return a floating-point number from a number or a string representation of a numeric value.|\n",
    "|Forward slash\t|Symbol “/“ used to perform various operation sin Python|\n",
    "|Foundational|\tDenoting an underlying basis or principle; fundamental.|\n",
    "|Immutable|\tImmutable Objects are of in-built datatypes like int, float, bool, string, Unicode, and tuple. In simple words, an immutable object can’t be changed after it is created.|\n",
    "|Integer|\tAn integer is the number zero (0), a positive natural number (1, 2, 3, and so on) or a negative integer with a minus sign (−1, −2, −3, and so on.)|\n",
    "|Manipulate\t|Is the process of modifying a string or creating a new string by making changes to existing strings.|\n",
    "|Mathematical conventions\t|A mathematical convention is a fact, name, notation, or usage which is generally agreed upon by mathematicians.|\n",
    "|Mathematical expressions|\tExpressions in math are mathematical statements that have a minimum of two terms containing numbers or variables, or both, connected by an operator in between.|\n",
    "|Mathematical operations|\tThe mathematical “operation” refers to calculating a value using operands and a math operator.|\n",
    "|Negative indexing\t|Allows you to access elements of a sequence (such as a list, a string, or a tuple) from the end, using negative numbers as indexes.|\n",
    "|Operands\t|The quantity on which an operation is to be done.\n",
    "|Operators in Python\t|Operators are used to perform operations on variables and values.|\n",
    "|Parentheses\t|Parentheses is used to call an object.|\n",
    "|Replicate|\tTo make an exact copy of.|\n",
    "|Sequence|\tA sequence is formally defined as a function whose domain is an interval of integers.|\n",
    "|Single quote|\tSymbol ‘ ‘ used to represent strings in python.|\n",
    "|Slicing in Python\t|Slicing is used to return a portion from defined list.|\n",
    "|Special characters|\tA special character is one that is not considered a number or letter. Symbols, accent marks, and punctuation marks are considered special characters.|\n",
    "|Stride value\t|Stride is the number of bytes from one row of pixels in memory to the next row of pixels in memory.\n",
    "|Strings\t|In Python, Strings are arrays of bytes representing Unicode characters.|\n",
    "|Substring\t|A substring is a sequence of characters that are part of an original string.|\n",
    "|Type casting|\tThe process of converting one data type to another data type is called Typecasting or Type Coercion or Type Conversion.|\n",
    "|Types in Python\t|Data types are the classification or categorization of data items. It represents the kind of value that tells what operations can be performed on a particular data.|\n",
    "|Variables\t|Variables are containers for storing data values.|"
   ]
  },
  {
   "cell_type": "code",
   "execution_count": null,
   "id": "eb291e6c-df38-46f2-b1c5-1956095e0678",
   "metadata": {},
   "outputs": [],
   "source": []
  }
 ],
 "metadata": {
  "kernelspec": {
   "display_name": "Python 3 (ipykernel)",
   "language": "python",
   "name": "python3"
  },
  "language_info": {
   "codemirror_mode": {
    "name": "ipython",
    "version": 3
   },
   "file_extension": ".py",
   "mimetype": "text/x-python",
   "name": "python",
   "nbconvert_exporter": "python",
   "pygments_lexer": "ipython3",
   "version": "3.12.3"
  }
 },
 "nbformat": 4,
 "nbformat_minor": 5
}
